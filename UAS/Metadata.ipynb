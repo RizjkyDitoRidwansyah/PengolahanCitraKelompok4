{
 "cells": [
  {
   "cell_type": "code",
   "execution_count": 1,
   "metadata": {},
   "outputs": [
    {
     "name": "stdout",
     "output_type": "stream",
     "text": [
      "ImageWidth: 3048\n",
      "ImageLength: 4064\n",
      "ImageDescription: \u0000\u0000\u0000\u0000\u0000\u0000\u0000\u0000\u0000\u0000\u0000\u0000\u0000\u0000\u0000\u0000\u0000\u0000\u0000\u0000\u0000\u0000\u0000\u0000\u0000\u0000\u0000\u0000\u0000\u0000\u0000\n",
      "Make: INFINIX\u0000\u0000\u0000\u0000\u0000\u0000\u0000\u0000\u0000\u0000\u0000\u0000\u0000\u0000\u0000\u0000\u0000\u0000\u0000\u0000\u0000\u0000\u0000\u0000\n",
      "Model: Infinix X6815D\u0000\u0000\u0000\u0000\u0000\u0000\u0000\u0000\u0000\u0000\u0000\u0000\u0000\u0000\u0000\u0000\u0000\u0000\u0000\u0000\u0000\n",
      "Orientation: 0\n",
      "YCbCrPositioning: 2\n",
      "XResolution: 72.0\n",
      "YResolution: 72.0\n",
      "544: 0\n",
      "545: 0\n",
      "546: 0\n",
      "547: 0\n",
      "548: 0\n",
      "549: \u0000\u0000\u0000\u0000\u0000\u0000\u0000\u0000\u0000\u0000\u0000\u0000\u0000\u0000\u0000\u0000\u0000\u0000\u0000\u0000\u0000\u0000\u0000\u0000\u0000\u0000\u0000\u0000\u0000\u0000\u0000\n",
      "ResolutionUnit: 2\n",
      "Software: MediaTek Camera Application\u0000\u0000\u0000\u0000\n",
      "DateTime: 2024:07:10 23:35:51\n",
      "ExifOffset: 442\n",
      "ExifVersion: b'0220'\n",
      "ComponentsConfiguration: b'\\x01\\x02\\x03\\x00'\n",
      "ShutterSpeedValue: 4.321\n",
      "DateTimeOriginal: 2024:07:10 23:35:51\n",
      "DateTimeDigitized: 2024:07:10 23:35:51\n",
      "BrightnessValue: 4.9\n",
      "ExposureBiasValue: 0.0\n",
      "MaxApertureValue: 0.0\n",
      "MeteringMode: 2\n",
      "LightSource: 255\n",
      "Flash: 16\n",
      "FocalLength: 4.11\n",
      "UserComment: 0\n",
      "ColorSpace: 1\n",
      "ExifImageWidth: 3048\n",
      "SceneCaptureType: 0\n",
      "OffsetTime: +07:00\n",
      "OffsetTimeOriginal: +07:00\n",
      "OffsetTimeDigitized: +07:00\n",
      "SubsecTime: 857\n",
      "SubsecTimeOriginal: 857\n",
      "SubsecTimeDigitized: 857\n",
      "ExifImageHeight: 4064\n",
      "ExposureTime: 0.049994\n",
      "ExifInteroperabilityOffset: 1111\n",
      "FNumber: 1.6\n",
      "ExposureProgram: 0\n",
      "ISOSpeedRatings: 807\n",
      "ExposureMode: 0\n",
      "FlashPixVersion: b'0100'\n",
      "SensitivityType: 0\n",
      "WhiteBalance: 0\n",
      "RecommendedExposureIndex: 0\n",
      "DigitalZoomRatio: 1.0\n",
      "FocalLengthIn35mmFilm: 0\n"
     ]
    }
   ],
   "source": [
    "from PIL import Image\n",
    "from PIL.ExifTags import TAGS\n",
    "\n",
    "# Membaca gambar\n",
    "image_path = 'Topeng.jpg'\n",
    "image = Image.open(image_path)\n",
    "\n",
    "# Mendapatkan metadata\n",
    "exif_data = image._getexif()\n",
    "\n",
    "# Menampilkan metadata\n",
    "if exif_data:\n",
    "    for tag, value in exif_data.items():\n",
    "        tag_name = TAGS.get(tag, tag)\n",
    "        print(f\"{tag_name}: {value}\")\n",
    "else:\n",
    "    print(\"Tidak ada metadata yang ditemukan\")"
   ]
  }
 ],
 "metadata": {
  "kernelspec": {
   "display_name": "Python 3",
   "language": "python",
   "name": "python3"
  },
  "language_info": {
   "codemirror_mode": {
    "name": "ipython",
    "version": 3
   },
   "file_extension": ".py",
   "mimetype": "text/x-python",
   "name": "python",
   "nbconvert_exporter": "python",
   "pygments_lexer": "ipython3",
   "version": "3.11.5"
  }
 },
 "nbformat": 4,
 "nbformat_minor": 2
}
